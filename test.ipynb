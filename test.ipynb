{
 "cells": [
  {
   "cell_type": "code",
   "execution_count": null,
   "id": "90d12e71-ba1b-4293-9b40-6f5c296bdca0",
   "metadata": {},
   "outputs": [],
   "source": [
    "# Our custom module\n",
    "from nn import DeepQNetwork\n",
    "from custom_parking_env import ParkingWithObstacles\n",
    "\n",
    "# python module\n",
    "import gymnasium as gym\n",
    "import torch\n",
    "import numpy as np\n",
    "\n",
    "# if GPU is to be used\n",
    "if torch.cuda.is_available():\n",
    "    device = torch.device(\"cuda\")\n",
    "    print(\"Using CUDA\")\n",
    "elif torch.backends.mps.is_available():\n",
    "    device = torch.device(\"mps\")\n",
    "    print(\"Using MPS\")\n",
    "else:\n",
    "    device = torch.device(\"cpu\")\n",
    "    print(\"Using CPU\")\n",
    "    \n",
    "target_net_weights = torch.load('target_net.pth', weights_only=False)\n",
    "device = torch.device(device)"
   ]
  },
  {
   "cell_type": "code",
   "execution_count": 2,
   "id": "8931ec42-dc25-470a-8724-5cc88e5f3f7d",
   "metadata": {},
   "outputs": [],
   "source": [
    "candidate_actions = []\n",
    "\n",
    "for steering in np.linspace(-0.5, 0.5, 3):\n",
    "        for acceleration in np.linspace(0.8, 0.4, 2):\n",
    "            candidate_actions.append(torch.Tensor([acceleration, steering]))\n",
    "            \n",
    "# print(candidate_actions)"
   ]
  },
  {
   "cell_type": "code",
   "execution_count": 3,
   "id": "51c0f35f-d5cd-4c39-a397-5c5c64b10626",
   "metadata": {},
   "outputs": [],
   "source": [
    "# combine observation\n",
    "def process_observation(observation):\n",
    "    # observation_vector = np.concatenate((\n",
    "    #     observation[\"observation\"],\n",
    "    #     observation[\"achieved_goal\"],\n",
    "    #     observation[\"desired_goal\"]\n",
    "    # ))\n",
    "    return observation[\"observation\"]\n",
    "\n",
    "# Create the original environment and wrap it into an environment with obstacles\n",
    "env_origin = gym.make(\"parking-v0\", render_mode=\"rgb_array\")\n",
    "env = ParkingWithObstacles(env_origin)\n",
    "env.define_spaces()\n",
    "\n",
    "# Get the number of state observations\n",
    "state, info = env.reset()\n",
    "\n",
    "# Get number of actions from gym action space\n",
    "n_actions = len(candidate_actions)\n",
    "n_observations = len(process_observation(state))  # 6 (observation) "
   ]
  },
  {
   "cell_type": "code",
   "execution_count": null,
   "id": "16a2c838-f64f-4315-8d4c-5b4e6b76e6e0",
   "metadata": {},
   "outputs": [],
   "source": [
    "model = DeepQNetwork(n_observations,n_actions).to(device)\n",
    "# Testing\n",
    "# Load the model weights\n",
    "model.load_state_dict(target_net_weights)\n",
    "model.eval()  # Set model to evaluation mode"
   ]
  },
  {
   "cell_type": "code",
   "execution_count": null,
   "id": "59313ff3-782c-4ee9-903d-0b98406c94c4",
   "metadata": {},
   "outputs": [],
   "source": [
    "# sam\n",
    "\n",
    "## test"
   ]
  }
 ],
 "metadata": {
  "kernelspec": {
   "display_name": "Python 3 (ipykernel)",
   "language": "python",
   "name": "python3"
  },
  "language_info": {
   "codemirror_mode": {
    "name": "ipython",
    "version": 3
   },
   "file_extension": ".py",
   "mimetype": "text/x-python",
   "name": "python",
   "nbconvert_exporter": "python",
   "pygments_lexer": "ipython3",
   "version": "3.11.9"
  }
 },
 "nbformat": 4,
 "nbformat_minor": 5
}
